{
 "cells": [
  {
   "cell_type": "markdown",
   "metadata": {},
   "source": [
    "**Medidas de Dispersão e Amplitude Total:**"
   ]
  },
  {
   "cell_type": "code",
   "execution_count": 46,
   "metadata": {},
   "outputs": [],
   "source": [
    "import numpy as np\n",
    "import pandas as pd"
   ]
  },
  {
   "cell_type": "code",
   "execution_count": 47,
   "metadata": {},
   "outputs": [
    {
     "name": "stdout",
     "output_type": "stream",
     "text": [
      "Média: 4241.666666666667\n",
      "Mediana: 4100.0\n",
      "Distância entre média e mediana: 3.46%\n",
      "Primeiro Quartil (Q1):3150.0\n",
      "Segundo Quartil (Q2):4100.0\n",
      "Terceiro Quartil (Q3):5050.0\n",
      "Intervalo InterQuartil:1900.0\n",
      "Limite Superior:7900.0\n",
      "Limite Inferior:300.0\n"
     ]
    }
   ],
   "source": [
    "#Recapitulando:\n",
    "\n",
    "amostra=np.array([2500,3200,2700,3000,3400,3700,4500,4700,5000,5200,6000,7000])\n",
    "media=np.mean(amostra)\n",
    "mediana=np.median(amostra)\n",
    "distancia=(media-mediana)/mediana*100\n",
    "q1=np.percentile(amostra,25) \n",
    "q2=np.percentile(amostra,50) \n",
    "q3=np.percentile(amostra,75)\n",
    "iqr=q3-q1\n",
    "limite_superior=q3+(1.5*iqr)\n",
    "limite_inferior=q1-(1.5*iqr)\n",
    "\n",
    "#Exibição Estatística:\n",
    "\n",
    "print(f'Média: {media}')\n",
    "print(f'Mediana: {mediana}')\n",
    "print (f'Distância entre média e mediana: {distancia:.2f}%')\n",
    "print(f\"Primeiro Quartil (Q1):{q1}\")\n",
    "print(f\"Segundo Quartil (Q2):{q2}\")\n",
    "print(f\"Terceiro Quartil (Q3):{q3}\")\n",
    "print(f\"Intervalo InterQuartil:{iqr}\")\n",
    "print(f\"Limite Superior:{limite_superior}\")\n",
    "print(f\"Limite Inferior:{limite_inferior}\")"
   ]
  },
  {
   "cell_type": "code",
   "execution_count": 48,
   "metadata": {},
   "outputs": [
    {
     "name": "stdout",
     "output_type": "stream",
     "text": [
      "    Valores\n",
      "0      2500\n",
      "1      3200\n",
      "2      2700\n",
      "3      3000\n",
      "4      3400\n",
      "5      3700\n",
      "6      4500\n",
      "7      4700\n",
      "8      5000\n",
      "9      5200\n",
      "10     6000\n",
      "11     7000\n"
     ]
    }
   ],
   "source": [
    "amostra_df=pd.DataFrame(amostra, columns=['Valores'])\n",
    "print(amostra_df)"
   ]
  },
  {
   "cell_type": "code",
   "execution_count": 49,
   "metadata": {},
   "outputs": [
    {
     "name": "stdout",
     "output_type": "stream",
     "text": [
      "Menor Valor:2500\n",
      "Maior Valor:7000\n",
      "Amplitude:4500\n"
     ]
    }
   ],
   "source": [
    "#Medidas de Dispersão\n",
    "valor_maximo=amostra_df['Valores'].max()\n",
    "valor_minimo=amostra_df['Valores'].min()\n",
    "amplitude_total=valor_maximo-valor_minimo\n",
    "\n",
    "print(f'Menor Valor:{valor_minimo}')\n",
    "print(f'Maior Valor:{valor_maximo}')\n",
    "print(f'Amplitude:{amplitude_total}')"
   ]
  },
  {
   "cell_type": "markdown",
   "metadata": {},
   "source": [
    "**Visualização do BoxPlot e Medidas:**"
   ]
  },
  {
   "cell_type": "code",
   "execution_count": 1,
   "metadata": {},
   "outputs": [
    {
     "ename": "NameError",
     "evalue": "name 'amostra_df' is not defined",
     "output_type": "error",
     "traceback": [
      "\u001b[1;31m---------------------------------------------------------------------------\u001b[0m",
      "\u001b[1;31mNameError\u001b[0m                                 Traceback (most recent call last)",
      "Cell \u001b[1;32mIn[1], line 6\u001b[0m\n\u001b[0;32m      3\u001b[0m fig,ax\u001b[39m=\u001b[39mplt\u001b[39m.\u001b[39msubplots(\u001b[39m1\u001b[39m,\u001b[39m2\u001b[39m,figsize\u001b[39m=\u001b[39m(\u001b[39m12\u001b[39m,\u001b[39m6\u001b[39m))\n\u001b[0;32m      5\u001b[0m \u001b[39m#Boxplot\u001b[39;00m\n\u001b[1;32m----> 6\u001b[0m ax[\u001b[39m0\u001b[39m]\u001b[39m.\u001b[39mboxplot(amostra_df[\u001b[39m'\u001b[39m\u001b[39mValores\u001b[39m\u001b[39m'\u001b[39m])\n\u001b[0;32m      7\u001b[0m ax[\u001b[39m0\u001b[39m]\u001b[39m.\u001b[39mset_title(\u001b[39m'\u001b[39m\u001b[39mDistribuição de Dados - Boxplot\u001b[39m\u001b[39m'\u001b[39m)\n\u001b[0;32m      8\u001b[0m ax[\u001b[39m0\u001b[39m]\u001b[39m.\u001b[39mset_ylabel(\u001b[39m'\u001b[39m\u001b[39mValores\u001b[39m\u001b[39m'\u001b[39m)\n",
      "\u001b[1;31mNameError\u001b[0m: name 'amostra_df' is not defined"
     ]
    },
    {
     "data": {
      "image/png": "[encoded data removed]",
      "text/plain": [
       "<Figure size 1200x600 with 2 Axes>"
      ]
     },
     "metadata": {},
     "output_type": "display_data"
    }
   ],
   "source": [
    "import matplotlib.pyplot as plt\n",
    "#configuração do painel\n",
    "fig,ax=plt.subplots(1,2,figsize=(12,6))\n",
    "\n",
    "#Boxplot\n",
    "ax[0].boxplot(amostra_df['Valores'])\n",
    "ax[0].set_title('Distribuição de Dados - Boxplot')\n",
    "ax[0].set_ylabel('Valores')\n",
    "\n",
    "#Exibindo as Medidas\n",
    "ax[1].text(0.1,0.8,f\"Menor Valor:{valor_minimo}\")\n",
    "ax[1].text(0.1,0.7,f\"Maior Valor:{valor_maximo}\")\n",
    "ax[1].text(0.1,0.6,f\"Amplitude Total:{amplitude_total}\")\n",
    "ax[1].set_axis_off()\n",
    "\n",
    "plt.tight_layout()\n",
    "plt.show()\n",
    "\n",
    "\n"
   ]
  },
  {
   "cell_type": "markdown",
   "metadata": {},
   "source": [
    "**Atividade:** atualize o resumo estatístico da amostra trabalhada na aula anterior com as medidas de dispersão vistas hoje\n",
    "(mínimo, máximo e amplitude total).\n"
   ]
  },
  {
   "cell_type": "markdown",
   "metadata": {},
   "source": []
  }
 ],
 "metadata": {
  "kernelspec": {
   "display_name": "virtual1",
   "language": "python",
   "name": "python3"
  },
  "language_info": {
   "codemirror_mode": {
    "name": "ipython",
    "version": 3
   },
   "file_extension": ".py",
   "mimetype": "text/x-python",
   "name": "python",
   "nbconvert_exporter": "python",
   "pygments_lexer": "ipython3",
   "version": "3.11.4"
  },
  "orig_nbformat": 4
 },
 "nbformat": 4,
 "nbformat_minor": 2
}
