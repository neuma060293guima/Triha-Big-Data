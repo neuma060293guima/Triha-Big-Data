{
 "cells": [
  {
   "cell_type": "code",
   "execution_count": null,
   "metadata": {},
   "outputs": [],
   "source": [
    "import pandas as pd\n",
    "import numpy as np"
   ]
  },
  {
   "cell_type": "code",
   "execution_count": null,
   "metadata": {},
   "outputs": [],
   "source": [
    "dados=pd.read_csv('weight_change_dataset.csv')\n",
    "print(display)\n",
    "estatistica=dados.describe()\n",
    "print(estatistica)\n",
    "df_copia=dados.copy() #BOAS PRÁTICAS: sempre inicie com uma cópia do dataset original para as primeiras manipulações e edição de dados.\n",
    "display(df_copia)"
   ]
  },
  {
   "cell_type": "code",
   "execution_count": null,
   "metadata": {},
   "outputs": [],
   "source": [
    "#Selecionando todos os Níveis de Qualidade de Sono que sejam 'Excellent':\n",
    "df_loc=df_copia.loc[df_copia['Sleep Quality']=='Excelent']\n",
    "display(df_loc)"
   ]
  },
  {
   "cell_type": "code",
   "execution_count": null,
   "metadata": {},
   "outputs": [],
   "source": [
    "#Selecionando a informação por índices (linhas e/ou colunas epecíficas):\n",
    "df_loc2=df_copia.iloc[:2,:4] #2 linhas e 4 colunas.\n",
    "display(df_loc2)"
   ]
  },
  {
   "cell_type": "code",
   "execution_count": null,
   "metadata": {},
   "outputs": [],
   "source": [
    "#Selecionando a partir de filtros com teste lógico:\n",
    "df_query=df_copia.query('Age<40')\n",
    "display(df_query)"
   ]
  },
  {
   "cell_type": "markdown",
   "metadata": {},
   "source": [
    "#Atividade 1: (AULA)\n",
    "\n",
    "A partir do dataset trabalhado nesta aula, trace 3 perfise os demostre pelo display:\n",
    "Perfil 1: Pessoas sedentárias com dietas alimentares até 2200 calorias;\n",
    "Perfil 2: Pessoas acima de 50 anos com hábitos muito bons de atividade física:\n",
    "Perfil 3: Pesssoas com menos de 20 anos que participam dos estudos nutricionais por mais de 1 mês.\n",
    "\n",
    "#Atividade 2: (GITHUB)\n",
    "\n",
    "Reaplique os processos de leitura, cópia e consultas exercitadas em aula utilizando um dataset livre\n",
    "pesquise por você (dê preferência a arquivos .csv, xlsx, ou .json)."
   ]
  }
 ],
 "metadata": {
  "kernelspec": {
   "display_name": "neumaguimaraes",
   "language": "python",
   "name": "python3"
  },
  "language_info": {
   "codemirror_mode": {
    "name": "ipython",
    "version": 3
   },
   "file_extension": ".py",
   "mimetype": "text/x-python",
   "name": "python",
   "nbconvert_exporter": "python",
   "pygments_lexer": "ipython3",
   "version": "3.11.4"
  },
  "orig_nbformat": 4
 },
 "nbformat": 4,
 "nbformat_minor": 2
}
