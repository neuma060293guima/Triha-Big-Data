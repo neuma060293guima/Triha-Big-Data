{
 "cells": [
  {
   "cell_type": "markdown",
   "metadata": {},
   "source": [
    "**Importação das Biblioteca**\n"
   ]
  },
  {
   "cell_type": "code",
   "execution_count": 29,
   "metadata": {},
   "outputs": [],
   "source": [
    "import pandas as pd\n",
    "import numpy as np"
   ]
  },
  {
   "cell_type": "markdown",
   "metadata": {},
   "source": [
    "Criação de um Array a partir de uma lista:"
   ]
  },
  {
   "cell_type": "code",
   "execution_count": 21,
   "metadata": {},
   "outputs": [
    {
     "name": "stdout",
     "output_type": "stream",
     "text": [
      "[1 2 3 4 5 6]\n"
     ]
    }
   ],
   "source": [
    "lista1=[1,2,3,4,5,6]\n",
    "array1=np.array(lista1)\n",
    "print(array1)"
   ]
  },
  {
   "cell_type": "markdown",
   "metadata": {},
   "source": [
    "Principais Funções:"
   ]
  },
  {
   "cell_type": "code",
   "execution_count": 7,
   "metadata": {},
   "outputs": [
    {
     "name": "stdout",
     "output_type": "stream",
     "text": [
      "int64\n"
     ]
    }
   ],
   "source": [
    "print(array1.dtype)"
   ]
  },
  {
   "cell_type": "code",
   "execution_count": 22,
   "metadata": {},
   "outputs": [
    {
     "name": "stdout",
     "output_type": "stream",
     "text": [
      "(6,)\n"
     ]
    }
   ],
   "source": [
    "print(array1.shape)"
   ]
  },
  {
   "cell_type": "code",
   "execution_count": 11,
   "metadata": {},
   "outputs": [
    {
     "name": "stdout",
     "output_type": "stream",
     "text": [
      "[[0. 0. 0.]\n",
      " [0. 0. 0.]]\n"
     ]
    }
   ],
   "source": [
    "zeros=np.zeros((2,3))\n",
    "print(zeros)"
   ]
  },
  {
   "cell_type": "code",
   "execution_count": 12,
   "metadata": {},
   "outputs": [
    {
     "name": "stdout",
     "output_type": "stream",
     "text": [
      "[[1. 1. 1.]\n",
      " [1. 1. 1.]]\n"
     ]
    }
   ],
   "source": [
    "number_one=np.ones((2,3))\n",
    "print(number_one)"
   ]
  },
  {
   "cell_type": "code",
   "execution_count": 15,
   "metadata": {},
   "outputs": [
    {
     "name": "stdout",
     "output_type": "stream",
     "text": [
      "[[6.23042070e-307 4.67296746e-307 1.69121096e-306 1.11261162e-306]\n",
      " [9.34598925e-307 1.42419802e-306 8.01092457e-307 6.23053614e-307]\n",
      " [1.86919649e-306 1.78020848e-306 1.11258175e-306 1.78019082e-306]\n",
      " [1.33511290e-306 4.67296747e-307 7.23188049e-308 4.78406574e+199]]\n"
     ]
    }
   ],
   "source": [
    "vazio=np.empty((4,4))\n",
    "print(vazio)"
   ]
  },
  {
   "cell_type": "code",
   "execution_count": 17,
   "metadata": {},
   "outputs": [
    {
     "name": "stdout",
     "output_type": "stream",
     "text": [
      "[ 99 199 299 399 499 599 699 799 899]\n"
     ]
    }
   ],
   "source": [
    "sequencia=np.arange(99,999,100)\n",
    "print(sequencia)"
   ]
  },
  {
   "cell_type": "code",
   "execution_count": 20,
   "metadata": {},
   "outputs": [
    {
     "name": "stdout",
     "output_type": "stream",
     "text": [
      "[[0.69416368 0.79029244 0.23178681]\n",
      " [0.80987075 0.00574563 0.42994269]]\n"
     ]
    }
   ],
   "source": [
    "aleatorio=np.random.rand(2,3)\n",
    "print(aleatorio)"
   ]
  },
  {
   "cell_type": "markdown",
   "metadata": {},
   "source": [
    "Funções para Manipulação de arrays Existente:"
   ]
  },
  {
   "cell_type": "code",
   "execution_count": 24,
   "metadata": {},
   "outputs": [
    {
     "name": "stdout",
     "output_type": "stream",
     "text": [
      "[[1 2 3]\n",
      " [4 5 6]]\n"
     ]
    }
   ],
   "source": [
    "array2=array1.reshape((2,3))\n",
    "print(array2)"
   ]
  },
  {
   "cell_type": "code",
   "execution_count": 26,
   "metadata": {},
   "outputs": [
    {
     "name": "stdout",
     "output_type": "stream",
     "text": [
      "[array([[1, 2, 3]]), array([[4, 5, 6]])]\n"
     ]
    }
   ],
   "source": [
    "quebra=np.split(array2,2)\n",
    "print(quebra)"
   ]
  },
  {
   "cell_type": "code",
   "execution_count": 27,
   "metadata": {},
   "outputs": [
    {
     "name": "stdout",
     "output_type": "stream",
     "text": [
      "[1 2] [3 4]\n",
      "[1 2 3 4]\n"
     ]
    }
   ],
   "source": [
    "array3=np.array([1,2])\n",
    "array4=np.array([3,4])\n",
    "print(array3,array4)\n",
    "uniao=np.concatenate([array3,array4])\n",
    "print(uniao)"
   ]
  },
  {
   "cell_type": "markdown",
   "metadata": {},
   "source": [
    "**Operações com Séries Pandas**"
   ]
  },
  {
   "cell_type": "markdown",
   "metadata": {},
   "source": [
    "Criação:"
   ]
  },
  {
   "cell_type": "code",
   "execution_count": 30,
   "metadata": {},
   "outputs": [
    {
     "name": "stdout",
     "output_type": "stream",
     "text": [
      "a    10\n",
      "b    20\n",
      "c    30\n",
      "dtype: int64\n"
     ]
    }
   ],
   "source": [
    "serie1=pd.Series([10,20,30],index=['a','b','c'])\n",
    "print(serie1)"
   ]
  },
  {
   "cell_type": "markdown",
   "metadata": {},
   "source": [
    "Seleção por Índice:"
   ]
  },
  {
   "cell_type": "code",
   "execution_count": 33,
   "metadata": {},
   "outputs": [
    {
     "name": "stdout",
     "output_type": "stream",
     "text": [
      "a    10\n",
      "dtype: int64\n",
      "a    10\n",
      "c    30\n",
      "dtype: int64\n"
     ]
    }
   ],
   "source": [
    "print(serie1[['a']])\n",
    "print(serie1[['a','c']])"
   ]
  },
  {
   "cell_type": "markdown",
   "metadata": {},
   "source": [
    "Operações de Filtragem e Aritmétrica"
   ]
  },
  {
   "cell_type": "code",
   "execution_count": 34,
   "metadata": {},
   "outputs": [
    {
     "name": "stdout",
     "output_type": "stream",
     "text": [
      "b    20\n",
      "c    30\n",
      "dtype: int64\n"
     ]
    }
   ],
   "source": [
    "filtro1=serie1[serie1>15]\n",
    "print(filtro1)"
   ]
  },
  {
   "cell_type": "code",
   "execution_count": 35,
   "metadata": {},
   "outputs": [
    {
     "name": "stdout",
     "output_type": "stream",
     "text": [
      "0     6\n",
      "1     8\n",
      "2    10\n",
      "3    12\n",
      "dtype: int64\n",
      "------\n",
      "0   -4\n",
      "1   -4\n",
      "2   -4\n",
      "3   -4\n",
      "dtype: int64\n",
      "------\n",
      "0     5\n",
      "1    12\n",
      "2    21\n",
      "3    32\n",
      "dtype: int64\n",
      "------\n",
      "0    0.200000\n",
      "1    0.333333\n",
      "2    0.428571\n",
      "3    0.500000\n",
      "dtype: float64\n",
      "------\n"
     ]
    }
   ],
   "source": [
    "serie3=pd.Series([1,2,3,4,])\n",
    "serie4=pd.Series([5,6,7,8])\n",
    "\n",
    "#Operações Fundamentais:\n",
    "print(serie3+serie4)\n",
    "print('------')\n",
    "print(serie3-serie4)\n",
    "print('------')\n",
    "print(serie3*serie4)\n",
    "print('------')\n",
    "print(serie3/serie4)\n",
    "print('------')\n"
   ]
  },
  {
   "cell_type": "code",
   "execution_count": 37,
   "metadata": {},
   "outputs": [
    {
     "name": "stdout",
     "output_type": "stream",
     "text": [
      "0    10.0\n",
      "1     NaN\n",
      "2    30.0\n",
      "dtype: float64\n",
      "0    11.0\n",
      "1     NaN\n",
      "2    33.0\n",
      "3     NaN\n",
      "dtype: float64\n",
      "-----------\n",
      "0    -9.0\n",
      "1     NaN\n",
      "2   -27.0\n",
      "3     NaN\n",
      "dtype: float64\n",
      "-----------\n",
      "0    10.0\n",
      "1     NaN\n",
      "2    90.0\n",
      "3     NaN\n",
      "dtype: float64\n",
      "-----------\n",
      "0    0.1\n",
      "1    NaN\n",
      "2    0.1\n",
      "3    NaN\n",
      "dtype: float64\n"
     ]
    }
   ],
   "source": [
    "#Suporte e Valores Nulos:\n",
    "\n",
    "serievazia=pd.Series([10,np.nan,30]) #NaN ='Null as Number'\n",
    "print(serievazia)\n",
    "print(serie3+serievazia)\n",
    "print('-----------')\n",
    "print(serie3-serievazia)\n",
    "print('-----------')\n",
    "print(serie3*serievazia)\n",
    "print('-----------')\n",
    "print(serie3/serievazia)"
   ]
  }
 ],
 "metadata": {
  "kernelspec": {
   "display_name": "neumaguimaraes",
   "language": "python",
   "name": "python3"
  },
  "language_info": {
   "codemirror_mode": {
    "name": "ipython",
    "version": 3
   },
   "file_extension": ".py",
   "mimetype": "text/x-python",
   "name": "python",
   "nbconvert_exporter": "python",
   "pygments_lexer": "ipython3",
   "version": "3.11.4"
  },
  "orig_nbformat": 4
 },
 "nbformat": 4,
 "nbformat_minor": 2
}
